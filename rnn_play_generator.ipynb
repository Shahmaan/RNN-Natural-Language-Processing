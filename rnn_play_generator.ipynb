{
  "cells": [
    {
      "cell_type": "markdown",
      "metadata": {
        "id": "W3mZjocZzWu4"
      },
      "source": [
        "## RNN Play Generator\n",
        "\n",
        "Now time for one of the coolest examples we've seen so far. We are going to use a RNN to generate a play. We will simply show the RNN an example of something we want it to recreate and it will learn how to write a version of it on its own. We'll do this using a character predictive model that will take as input a variable length sequence and predict the next character. We can use the model many times in a row with the output from the last predicition as the input for the next call to generate a sequence.\n",
        "\n",
        "\n",
        "*This is based on the following: https://www.tensorflow.org/tutorials/text/text_generation*"
      ]
    },
    {
      "cell_type": "markdown",
      "metadata": {
        "id": "CanqR9O0zgty"
      },
      "source": [
        "shakespare text file: *https://storage.googleapis.com/download.tensorflow.org/data/shakespeare.txt*"
      ]
    },
    {
      "cell_type": "code",
      "execution_count": 1,
      "metadata": {
        "id": "sNluFO3ZzYzy"
      },
      "outputs": [],
      "source": [
        "# imports\n",
        "import keras\n",
        "import tensorflow as tf\n",
        "import os\n",
        "import numpy as np"
      ]
    },
    {
      "cell_type": "markdown",
      "metadata": {
        "id": "PAOpyZbs0vs-"
      },
      "source": [
        "### Dataset\n",
        "For this example, we only need one peice of training data. In fact, we can write our own poem or play and pass that to the network for training if we'd like. However, to make things easy we'll use an extract from a shakesphere play."
      ]
    },
    {
      "cell_type": "code",
      "execution_count": 2,
      "metadata": {
        "id": "ceWBN2lk0oQJ",
        "colab": {
          "base_uri": "https://localhost:8080/"
        },
        "outputId": "fb2f86fe-1649-4786-fc70-0876cfd188c4"
      },
      "outputs": [
        {
          "output_type": "stream",
          "name": "stdout",
          "text": [
            "Downloading data from https://storage.googleapis.com/download.tensorflow.org/data/shakespeare.txt\n",
            "1115394/1115394 [==============================] - 0s 0us/step\n"
          ]
        }
      ],
      "source": [
        "path_to_file = tf.keras.utils.get_file('shakespeare.txt', 'https://storage.googleapis.com/download.tensorflow.org/data/shakespeare.txt')"
      ]
    },
    {
      "cell_type": "markdown",
      "metadata": {
        "id": "grz4psZp03qt"
      },
      "source": [
        "### Loading Your Own Data\n",
        "To load your own data, you'll need to upload a file from the dialog below. Then you'll need to follow the steps from above but load in this new file instead."
      ]
    },
    {
      "cell_type": "code",
      "execution_count": null,
      "metadata": {
        "id": "BI2Lxa4wMWeY"
      },
      "outputs": [],
      "source": [
        "from google.colab import files\n",
        "path_to_file = list(files.upload().keys())[0]"
      ]
    },
    {
      "cell_type": "markdown",
      "metadata": {
        "id": "8mp7dqZf1GPz"
      },
      "source": [
        "### Read Contents of File\n",
        "Let's look at the contents of the file."
      ]
    },
    {
      "cell_type": "code",
      "execution_count": 3,
      "metadata": {
        "colab": {
          "base_uri": "https://localhost:8080/"
        },
        "id": "2onY5HN71HsK",
        "outputId": "c902a494-995a-48e0-b221-c89000ce1aaa"
      },
      "outputs": [
        {
          "output_type": "stream",
          "name": "stdout",
          "text": [
            "Length of text: 1115394 characters\n"
          ]
        }
      ],
      "source": [
        "# Read, then decode for py2 compat.\n",
        "text = open(path_to_file, 'rb').read().decode(encoding='utf-8')\n",
        "# length of text is the number of characters in it\n",
        "print ('Length of text: {} characters'.format(len(text)))"
      ]
    },
    {
      "cell_type": "code",
      "execution_count": 4,
      "metadata": {
        "colab": {
          "base_uri": "https://localhost:8080/"
        },
        "id": "ipq3hKCV1LxK",
        "outputId": "9b0e3369-a635-4b51-d50d-e389e512dae7"
      },
      "outputs": [
        {
          "output_type": "stream",
          "name": "stdout",
          "text": [
            "First Citizen:\n",
            "Before we proceed any further, hear me speak.\n",
            "\n",
            "All:\n",
            "Speak, speak.\n",
            "\n",
            "First Citizen:\n",
            "You are all resolved rather to die than to famish?\n",
            "\n",
            "All:\n",
            "Resolved. resolved.\n",
            "\n",
            "First Citizen:\n",
            "First, you know Caius Marcius is chief enemy to the people.\n",
            "\n"
          ]
        }
      ],
      "source": [
        "# Take a look at the first 250 characters in text\n",
        "print(text[:250])"
      ]
    },
    {
      "cell_type": "markdown",
      "metadata": {
        "id": "lrgcrFYS1oNf"
      },
      "source": [
        "### Encoding\n",
        "Since this text isn't encoded yet well need to do that ourselves. We are going to encode each unique character as a different integer."
      ]
    },
    {
      "cell_type": "code",
      "execution_count": 5,
      "metadata": {
        "id": "AZQ-qCkT1pDw"
      },
      "outputs": [],
      "source": [
        "vocab = sorted(set(text))\n",
        "# Creating a mapping from unique characters to indices\n",
        "char2idx = {u:i for i, u in enumerate(vocab)}\n",
        "idx2char = np.array(vocab)\n",
        "\n",
        "def text_to_int(text):\n",
        "  return np.array([char2idx[c] for c in text])\n",
        "\n",
        "text_as_int = text_to_int(text)"
      ]
    },
    {
      "cell_type": "code",
      "execution_count": 6,
      "metadata": {
        "colab": {
          "base_uri": "https://localhost:8080/"
        },
        "id": "rK65s0fD111r",
        "outputId": "58ebcded-3ae4-40df-a0e9-3c11ac23ef13"
      },
      "outputs": [
        {
          "output_type": "stream",
          "name": "stdout",
          "text": [
            "Text: First Citizen\n",
            "Encoded: [18 47 56 57 58  1 15 47 58 47 64 43 52]\n"
          ]
        }
      ],
      "source": [
        "# lets look at how part of our text is encoded\n",
        "print(\"Text:\", text[:13])\n",
        "print(\"Encoded:\", text_to_int(text[:13]))"
      ]
    },
    {
      "cell_type": "markdown",
      "metadata": {
        "id": "ABB0uGi52Yla"
      },
      "source": [
        "And here we will make a function that can convert our numeric values to text.\n"
      ]
    },
    {
      "cell_type": "code",
      "execution_count": 7,
      "metadata": {
        "colab": {
          "base_uri": "https://localhost:8080/"
        },
        "id": "ankBWP5x2bOV",
        "outputId": "ce6afa00-0b09-4de7-886f-d9ed60741d2b"
      },
      "outputs": [
        {
          "output_type": "stream",
          "name": "stdout",
          "text": [
            "First Citizen\n"
          ]
        }
      ],
      "source": [
        "def int_to_text(ints):\n",
        "  try:\n",
        "    ints = ints.numpy()\n",
        "  except:\n",
        "    pass\n",
        "  return ''.join(idx2char[ints])\n",
        "\n",
        "print(int_to_text(text_as_int[:13]))"
      ]
    },
    {
      "cell_type": "markdown",
      "metadata": {
        "id": "AVLa5GEF4fh6"
      },
      "source": [
        "### Creating Training Examples\n",
        "Remember our task is to feed the model a sequence and have it return to us the next character. This means we need to split our text data from above into many shorter sequences that we can pass to the model as training examples. \n",
        "\n",
        "The training examples we will prepapre will use a *seq_length* sequence as input and a *seq_length* sequence as the output where that sequence is the original sequence shifted one letter to the right. For example:\n",
        "\n",
        "```input: Hell | output: ello```\n",
        "\n",
        "Our first step will be to create a stream of characters from our text data."
      ]
    },
    {
      "cell_type": "code",
      "execution_count": 8,
      "metadata": {
        "id": "kCvGi6tT2bjD"
      },
      "outputs": [],
      "source": [
        "seq_length = 100  # length of sequence for a training example\n",
        "examples_per_epoch = len(text)//(seq_length+1)\n",
        "\n",
        "# Create training examples / targets\n",
        "char_dataset = tf.data.Dataset.from_tensor_slices(text_as_int)"
      ]
    },
    {
      "cell_type": "markdown",
      "metadata": {
        "id": "VVeXtcg14xcO"
      },
      "source": [
        "Next we can use the batch method to turn this stream of characters into batches of desired length."
      ]
    },
    {
      "cell_type": "code",
      "execution_count": 9,
      "metadata": {
        "id": "_8kQYM4N4xoF"
      },
      "outputs": [],
      "source": [
        "sequences = char_dataset.batch(seq_length+1, drop_remainder=True)"
      ]
    },
    {
      "cell_type": "markdown",
      "metadata": {
        "id": "knhYmAGp47xd"
      },
      "source": [
        "Now we need to use these sequences of length 101 and split them into input and output."
      ]
    },
    {
      "cell_type": "code",
      "execution_count": 10,
      "metadata": {
        "id": "xDk1IKye4zwI"
      },
      "outputs": [],
      "source": [
        "def split_input_target(chunk):  # for the example: hello\n",
        "    input_text = chunk[:-1]  # hell\n",
        "    target_text = chunk[1:]  # ello\n",
        "    return input_text, target_text  # hell, ello\n",
        "\n",
        "dataset = sequences.map(split_input_target)  # we use map to apply the above function to every entry"
      ]
    },
    {
      "cell_type": "code",
      "execution_count": 11,
      "metadata": {
        "colab": {
          "base_uri": "https://localhost:8080/"
        },
        "id": "gHcPzMXs4-pt",
        "outputId": "90e09069-66e4-4406-f90b-807de587d909"
      },
      "outputs": [
        {
          "output_type": "stream",
          "name": "stdout",
          "text": [
            "\n",
            "\n",
            "EXAMPLE\n",
            "\n",
            "INPUT\n",
            "First Citizen:\n",
            "Before we proceed any further, hear me speak.\n",
            "\n",
            "All:\n",
            "Speak, speak.\n",
            "\n",
            "First Citizen:\n",
            "You\n",
            "\n",
            "OUTPUT\n",
            "irst Citizen:\n",
            "Before we proceed any further, hear me speak.\n",
            "\n",
            "All:\n",
            "Speak, speak.\n",
            "\n",
            "First Citizen:\n",
            "You \n",
            "\n",
            "\n",
            "EXAMPLE\n",
            "\n",
            "INPUT\n",
            "are all resolved rather to die than to famish?\n",
            "\n",
            "All:\n",
            "Resolved. resolved.\n",
            "\n",
            "First Citizen:\n",
            "First, you \n",
            "\n",
            "OUTPUT\n",
            "re all resolved rather to die than to famish?\n",
            "\n",
            "All:\n",
            "Resolved. resolved.\n",
            "\n",
            "First Citizen:\n",
            "First, you k\n"
          ]
        }
      ],
      "source": [
        "for x, y in dataset.take(2):\n",
        "  print(\"\\n\\nEXAMPLE\\n\")\n",
        "  print(\"INPUT\")\n",
        "  print(int_to_text(x))\n",
        "  print(\"\\nOUTPUT\")\n",
        "  print(int_to_text(y))"
      ]
    },
    {
      "cell_type": "markdown",
      "metadata": {
        "id": "Cz_c_1zh5ckK"
      },
      "source": [
        "Finally we need to make training batches."
      ]
    },
    {
      "cell_type": "code",
      "execution_count": 12,
      "metadata": {
        "id": "VgcS12FK5cyd"
      },
      "outputs": [],
      "source": [
        "BATCH_SIZE = 64\n",
        "VOCAB_SIZE = len(vocab)  # vocab is number of unique characters\n",
        "EMBEDDING_DIM = 256\n",
        "RNN_UNITS = 1024\n",
        "\n",
        "# Buffer size to shuffle the dataset\n",
        "# (TF data is designed to work with possibly infinite sequences,\n",
        "# so it doesn't attempt to shuffle the entire sequence in memory. Instead,\n",
        "# it maintains a buffer in which it shuffles elements).\n",
        "BUFFER_SIZE = 10000\n",
        "\n",
        "data = dataset.shuffle(BUFFER_SIZE).batch(BATCH_SIZE, drop_remainder=True)"
      ]
    },
    {
      "cell_type": "markdown",
      "metadata": {
        "id": "DeG4h_Ck5zKt"
      },
      "source": [
        "### Building the Model\n",
        "Now it is time to build the model. We will use an embedding layer a LSTM and one dense layer that contains a node for each unique character in our training data. The dense layer will give us a probability distribution over all nodes."
      ]
    },
    {
      "cell_type": "code",
      "execution_count": 13,
      "metadata": {
        "colab": {
          "base_uri": "https://localhost:8080/"
        },
        "id": "b4rzJjoS5zsG",
        "outputId": "d87b620a-d017-4869-a75c-fdd29091c92b"
      },
      "outputs": [
        {
          "output_type": "stream",
          "name": "stdout",
          "text": [
            "Model: \"sequential\"\n",
            "_________________________________________________________________\n",
            " Layer (type)                Output Shape              Param #   \n",
            "=================================================================\n",
            " embedding (Embedding)       (64, None, 256)           16640     \n",
            "                                                                 \n",
            " lstm (LSTM)                 (64, None, 1024)          5246976   \n",
            "                                                                 \n",
            " dense (Dense)               (64, None, 65)            66625     \n",
            "                                                                 \n",
            "=================================================================\n",
            "Total params: 5,330,241\n",
            "Trainable params: 5,330,241\n",
            "Non-trainable params: 0\n",
            "_________________________________________________________________\n"
          ]
        }
      ],
      "source": [
        "def build_model(vocab_size, embedding_dim, rnn_units, batch_size):\n",
        "  model = tf.keras.Sequential([\n",
        "    tf.keras.layers.Embedding(vocab_size, embedding_dim,\n",
        "                              batch_input_shape=[batch_size, None]),\n",
        "    tf.keras.layers.LSTM(rnn_units,\n",
        "                        return_sequences=True,\n",
        "                        stateful=True,\n",
        "                        recurrent_initializer='glorot_uniform'),\n",
        "    tf.keras.layers.Dense(vocab_size)\n",
        "  ])\n",
        "  return model\n",
        "\n",
        "model = build_model(VOCAB_SIZE,EMBEDDING_DIM, RNN_UNITS, BATCH_SIZE)\n",
        "model.summary()"
      ]
    },
    {
      "cell_type": "markdown",
      "metadata": {
        "id": "rvw8hRNm6RHb"
      },
      "source": [
        "### Creating a Loss Function\n",
        "Now we are going to create our own loss function for this problem. This is because our model will output a (64, sequence_length, 65) shaped tensor that represents the probability distribution of each character at each timestep for every sequence in the batch. \n",
        "\n"
      ]
    },
    {
      "cell_type": "markdown",
      "metadata": {
        "id": "Kqll5MwQ6TkU"
      },
      "source": [
        "However, before we do that let's have a look at a sample input and the output from our untrained model. This is so we can understand what the model is giving us.\n",
        "\n"
      ]
    },
    {
      "cell_type": "code",
      "execution_count": 14,
      "metadata": {
        "colab": {
          "base_uri": "https://localhost:8080/"
        },
        "id": "CLEhhCC951jQ",
        "outputId": "ccd36fa5-3221-412a-c768-e3b603b8d7ff"
      },
      "outputs": [
        {
          "output_type": "stream",
          "name": "stdout",
          "text": [
            "(64, 100, 65) # (batch_size, sequence_length, vocab_size)\n"
          ]
        }
      ],
      "source": [
        "for input_example_batch, target_example_batch in data.take(1):\n",
        "  example_batch_predictions = model(input_example_batch)  # ask our model for a prediction on our first batch of training data (64 entries)\n",
        "  print(example_batch_predictions.shape, \"# (batch_size, sequence_length, vocab_size)\")  # print out the output shape"
      ]
    },
    {
      "cell_type": "code",
      "execution_count": 15,
      "metadata": {
        "colab": {
          "base_uri": "https://localhost:8080/"
        },
        "id": "XGuXulSv7n48",
        "outputId": "c316cc2f-f189-4b4e-b4b3-46234d0996ce"
      },
      "outputs": [
        {
          "output_type": "stream",
          "name": "stdout",
          "text": [
            "64\n",
            "tf.Tensor(\n",
            "[[[-2.2400492e-03 -3.4750407e-03  3.4641521e-03 ...  3.2507773e-03\n",
            "   -6.4873421e-03  1.7617734e-03]\n",
            "  [-9.6056554e-03 -7.1073282e-03 -2.4814699e-03 ... -1.8949769e-03\n",
            "   -1.8139180e-03  4.6120323e-03]\n",
            "  [-8.7340809e-03 -4.1179787e-03  2.0244115e-04 ... -6.1437860e-03\n",
            "   -1.8808136e-03  9.8221761e-04]\n",
            "  ...\n",
            "  [-2.2781733e-03 -2.7634287e-03  6.9931373e-03 ...  3.1686106e-03\n",
            "   -8.4274057e-03 -1.2225755e-03]\n",
            "  [-1.0456568e-02 -6.8951738e-03  7.7411053e-03 ...  4.3723774e-03\n",
            "   -6.8891067e-03 -3.0977107e-03]\n",
            "  [-1.7279380e-03 -3.4068534e-03  8.0568539e-03 ...  5.7815714e-03\n",
            "   -3.4643300e-03 -4.4840020e-03]]\n",
            "\n",
            " [[-2.2400492e-03 -3.4750407e-03  3.4641521e-03 ...  3.2507773e-03\n",
            "   -6.4873421e-03  1.7617734e-03]\n",
            "  [-6.5646847e-03 -6.4572054e-03  1.6799793e-03 ... -9.1607345e-04\n",
            "   -3.0712388e-03  7.1817716e-03]\n",
            "  [-4.1879850e-04 -6.0450211e-03  3.8529616e-03 ... -1.4737655e-03\n",
            "   -1.5372834e-03  2.4336178e-03]\n",
            "  ...\n",
            "  [-2.0710392e-02 -6.4709191e-03 -2.3456642e-03 ... -5.5662729e-03\n",
            "   -3.4840996e-03  9.9287322e-03]\n",
            "  [-2.6467450e-02 -7.2364551e-03 -5.5605299e-03 ... -2.1815440e-03\n",
            "   -8.5740834e-03  1.2685265e-02]\n",
            "  [-1.9103322e-02 -1.3269556e-02 -1.5700996e-02 ... -6.6354324e-04\n",
            "   -3.3952557e-03  1.4861383e-02]]\n",
            "\n",
            " [[ 3.9448583e-05 -1.3301505e-03  3.7979530e-03 ... -6.9405575e-04\n",
            "    1.0977329e-03 -8.1380154e-04]\n",
            "  [-2.8612795e-03 -5.3126737e-03  6.6564288e-03 ...  2.1451465e-03\n",
            "   -6.2958067e-03  6.0755701e-04]\n",
            "  [ 1.7375763e-03 -5.8415369e-03  7.6133520e-03 ...  2.4579882e-04\n",
            "   -4.1741543e-03 -2.8087273e-03]\n",
            "  ...\n",
            "  [-2.2266209e-03 -3.7702830e-03  1.0016598e-02 ...  1.4773780e-04\n",
            "   -2.6583050e-03 -5.3500561e-03]\n",
            "  [-7.9080723e-03 -5.5753724e-03  5.4533859e-03 ... -4.2264955e-03\n",
            "   -1.2157619e-04  1.2277319e-03]\n",
            "  [-9.4122849e-03 -6.1702705e-03  6.7934832e-03 ... -6.1220367e-04\n",
            "   -6.7063225e-03  1.8540826e-03]]\n",
            "\n",
            " ...\n",
            "\n",
            " [[-4.9347494e-04  1.2070909e-03  1.5487114e-03 ... -4.7160378e-03\n",
            "    6.0795224e-04 -2.8322411e-03]\n",
            "  [ 2.5624069e-03  7.5836049e-04  2.5480636e-04 ... -2.1272073e-03\n",
            "    2.6586517e-03  4.3602115e-03]\n",
            "  [-2.2927530e-03  8.7796175e-04  3.1457469e-03 ... -8.2672061e-04\n",
            "   -5.2451408e-03  1.7342838e-03]\n",
            "  ...\n",
            "  [-9.6851792e-03 -8.4921056e-03 -1.0240520e-04 ... -3.1626883e-03\n",
            "   -3.6269277e-03  8.4303636e-03]\n",
            "  [-6.9478061e-03 -5.5123875e-03 -1.3483549e-04 ... -1.9332547e-03\n",
            "   -1.8754109e-03  6.4658178e-03]\n",
            "  [-6.4005936e-03 -4.3679597e-03  2.4513300e-03 ... -2.0575714e-03\n",
            "   -9.9052442e-04  4.0494585e-03]]\n",
            "\n",
            " [[ 4.0778476e-03 -2.2828695e-05 -5.6331942e-04 ...  1.7267799e-03\n",
            "    2.1608486e-03  6.1032823e-03]\n",
            "  [ 7.7387143e-05 -3.1634462e-03  3.5802147e-03 ...  4.4125905e-03\n",
            "   -5.7229577e-03  6.6499077e-03]\n",
            "  [-1.4819828e-04 -7.6266928e-03  3.3448935e-03 ...  3.5566131e-03\n",
            "   -2.5936216e-03  7.1290135e-04]\n",
            "  ...\n",
            "  [-9.6076764e-03  3.3369940e-03 -1.2101959e-03 ...  7.2573158e-03\n",
            "   -6.6900374e-03  2.1714428e-03]\n",
            "  [ 8.9982990e-05  3.6881245e-03  3.5160803e-04 ...  8.1936615e-03\n",
            "   -2.9362538e-03  3.5349798e-04]\n",
            "  [-1.0531824e-03  1.0085719e-02 -1.3310721e-03 ...  1.0002291e-02\n",
            "   -2.8069885e-03 -5.2404595e-03]]\n",
            "\n",
            " [[-2.2400492e-03 -3.4750407e-03  3.4641521e-03 ...  3.2507773e-03\n",
            "   -6.4873421e-03  1.7617734e-03]\n",
            "  [-9.6056554e-03 -7.1073282e-03 -2.4814699e-03 ... -1.8949769e-03\n",
            "   -1.8139180e-03  4.6120323e-03]\n",
            "  [-1.0949625e-02  2.4930574e-03 -4.7174995e-03 ... -6.0293556e-04\n",
            "   -3.8175045e-03 -6.0458900e-05]\n",
            "  ...\n",
            "  [-9.4921449e-03 -2.6236391e-03  8.8563459e-03 ...  5.3553740e-03\n",
            "   -9.1234799e-03 -4.2700842e-03]\n",
            "  [-5.5015758e-03 -6.0892846e-03  4.6682572e-03 ...  1.5132545e-03\n",
            "   -4.0537524e-03  3.9405655e-04]\n",
            "  [-6.9196606e-03 -1.1903864e-03  4.5705941e-03 ... -5.9732967e-03\n",
            "   -3.2598737e-03 -8.2790339e-04]]], shape=(64, 100, 65), dtype=float32)\n"
          ]
        }
      ],
      "source": [
        "# we can see that the predicition is an array of 64 arrays, one for each entry in the batch\n",
        "print(len(example_batch_predictions))\n",
        "print(example_batch_predictions)"
      ]
    },
    {
      "cell_type": "code",
      "execution_count": 16,
      "metadata": {
        "colab": {
          "base_uri": "https://localhost:8080/"
        },
        "id": "XhbpAI287tSR",
        "outputId": "727d0be6-a1d9-473e-930b-35c0f4e57aed"
      },
      "outputs": [
        {
          "output_type": "stream",
          "name": "stdout",
          "text": [
            "100\n",
            "tf.Tensor(\n",
            "[[-0.00224005 -0.00347504  0.00346415 ...  0.00325078 -0.00648734\n",
            "   0.00176177]\n",
            " [-0.00960566 -0.00710733 -0.00248147 ... -0.00189498 -0.00181392\n",
            "   0.00461203]\n",
            " [-0.00873408 -0.00411798  0.00020244 ... -0.00614379 -0.00188081\n",
            "   0.00098222]\n",
            " ...\n",
            " [-0.00227817 -0.00276343  0.00699314 ...  0.00316861 -0.00842741\n",
            "  -0.00122258]\n",
            " [-0.01045657 -0.00689517  0.00774111 ...  0.00437238 -0.00688911\n",
            "  -0.00309771]\n",
            " [-0.00172794 -0.00340685  0.00805685 ...  0.00578157 -0.00346433\n",
            "  -0.004484  ]], shape=(100, 65), dtype=float32)\n"
          ]
        }
      ],
      "source": [
        "# lets examine one prediction\n",
        "pred = example_batch_predictions[0]\n",
        "print(len(pred))\n",
        "print(pred)\n",
        "# notice this is a 2d array of length 100, where each interior array is the prediction for the next character at each time step"
      ]
    },
    {
      "cell_type": "code",
      "execution_count": 17,
      "metadata": {
        "colab": {
          "base_uri": "https://localhost:8080/"
        },
        "id": "6ljS7Pd47ui6",
        "outputId": "c976a7e4-5501-4951-de69-7e775c0024b0"
      },
      "outputs": [
        {
          "output_type": "stream",
          "name": "stdout",
          "text": [
            "65\n",
            "tf.Tensor(\n",
            "[-2.2400492e-03 -3.4750407e-03  3.4641521e-03 -7.2887810e-03\n",
            " -1.8879981e-04 -1.2620051e-03  1.9105009e-03  1.3025708e-03\n",
            " -1.6009748e-03  1.3192141e-03 -7.5248745e-04  1.7325627e-05\n",
            "  5.8689504e-04 -8.9738681e-04 -2.8217712e-03 -5.5938433e-03\n",
            " -1.7569956e-03 -2.4945587e-03  1.5004971e-03  1.6827964e-03\n",
            " -7.0039304e-03  1.0960051e-03 -2.9868139e-03 -3.3735661e-03\n",
            "  2.3053400e-03 -3.1011729e-03 -3.1738831e-03 -4.0329117e-03\n",
            " -1.8913526e-03  1.1219615e-02  4.7787344e-03 -1.0325852e-03\n",
            " -1.2350080e-03 -3.9371904e-03 -1.6156598e-03 -1.2605977e-03\n",
            "  1.5218367e-03  5.2629453e-03 -2.2120506e-03 -2.1698114e-03\n",
            "  4.8376615e-03 -2.6985996e-03  5.3846752e-03  8.6369691e-05\n",
            "  3.2585871e-03  6.2716622e-03  3.0663707e-03 -3.0838398e-03\n",
            "  7.2643794e-03  1.8298582e-03 -5.0838348e-03  2.8230362e-03\n",
            "  6.9456697e-03  1.9408650e-03 -2.1707644e-03 -2.6622138e-03\n",
            " -4.0640337e-03  8.0507447e-04 -1.8299428e-03  2.4518212e-03\n",
            " -3.6292938e-03  1.5122314e-03  3.2507773e-03 -6.4873421e-03\n",
            "  1.7617734e-03], shape=(65,), dtype=float32)\n"
          ]
        }
      ],
      "source": [
        "# and finally well look at a prediction at the first timestep\n",
        "time_pred = pred[0]\n",
        "print(len(time_pred))\n",
        "print(time_pred)\n",
        "# and of course its 65 values representing the probabillity of each character occuring next"
      ]
    },
    {
      "cell_type": "code",
      "execution_count": 18,
      "metadata": {
        "colab": {
          "base_uri": "https://localhost:8080/",
          "height": 35
        },
        "id": "hfYGPBAE7vyB",
        "outputId": "d52d1ce3-25ae-450e-dfd8-186d475c9dc2"
      },
      "outputs": [
        {
          "output_type": "execute_result",
          "data": {
            "text/plain": [
              "',:RpJTnT.XD..n! Je,z:;MRv!mSEyWVNoWlCGXiz& r3ezHi,-PGOpZBsLtRkttDXhfWzWC\\npACDN3;f$oS.sq\\n!osJl3xK\\n;Ui'"
            ],
            "application/vnd.google.colaboratory.intrinsic+json": {
              "type": "string"
            }
          },
          "metadata": {},
          "execution_count": 18
        }
      ],
      "source": [
        "# If we want to determine the predicted character we need to sample the output distribution (pick a value based on probabillity)\n",
        "sampled_indices = tf.random.categorical(pred, num_samples=1)\n",
        "\n",
        "# now we can reshape that array and convert all the integers to numbers to see the actual characters\n",
        "sampled_indices = np.reshape(sampled_indices, (1, -1))[0]\n",
        "predicted_chars = int_to_text(sampled_indices)\n",
        "\n",
        "predicted_chars  # and this is what the model predicted for training sequence 1"
      ]
    },
    {
      "cell_type": "markdown",
      "metadata": {
        "id": "-94PfokIKae0"
      },
      "source": [
        "So now we need to create a loss function that can compare that output to the expected output and give us some numeric value representing how close the two were. "
      ]
    },
    {
      "cell_type": "code",
      "execution_count": 19,
      "metadata": {
        "id": "z2W8MQFLKat9"
      },
      "outputs": [],
      "source": [
        "def loss(labels, logits):\n",
        "  return tf.keras.losses.sparse_categorical_crossentropy(labels, logits, from_logits=True)"
      ]
    },
    {
      "cell_type": "markdown",
      "metadata": {
        "id": "1IhRSCzkKk24"
      },
      "source": [
        "###Compiling the Model\n",
        "At this point we can think of our problem as a classification problem where the model predicts the probabillity of each unique letter coming next. \n"
      ]
    },
    {
      "cell_type": "code",
      "execution_count": 20,
      "metadata": {
        "id": "UxabRUP4KcO5"
      },
      "outputs": [],
      "source": [
        "model.compile(optimizer='adam', loss=loss)"
      ]
    },
    {
      "cell_type": "markdown",
      "metadata": {
        "id": "0FTHR8xfK82Y"
      },
      "source": [
        "###Creating Checkpoints\n",
        "Now we are going to setup and configure our model to save checkpoinst as it trains. This will allow us to load our model from a checkpoint and continue training it."
      ]
    },
    {
      "cell_type": "code",
      "execution_count": 21,
      "metadata": {
        "id": "Dd_YIGXEK7X5"
      },
      "outputs": [],
      "source": [
        "# Directory where the checkpoints will be saved\n",
        "checkpoint_dir = './training_checkpoints'\n",
        "# Name of the checkpoint files\n",
        "checkpoint_prefix = os.path.join(checkpoint_dir, \"ckpt_{epoch}\")\n",
        "\n",
        "checkpoint_callback=tf.keras.callbacks.ModelCheckpoint(\n",
        "    filepath=checkpoint_prefix,\n",
        "    save_weights_only=True)"
      ]
    },
    {
      "cell_type": "markdown",
      "metadata": {
        "id": "7m5jQVT-LDPE"
      },
      "source": [
        "###Training\n",
        "Finally, we will start training the model. \n",
        "\n",
        "**If this is taking a while go to Runtime > Change Runtime Type and choose \"GPU\" under hardware accelerator.**\n",
        "\n"
      ]
    },
    {
      "cell_type": "code",
      "execution_count": 22,
      "metadata": {
        "colab": {
          "base_uri": "https://localhost:8080/"
        },
        "id": "vNuUWxUzMRUW",
        "outputId": "773e4e2e-50d0-4786-9917-bc1c7b6db10f"
      },
      "outputs": [
        {
          "output_type": "stream",
          "name": "stdout",
          "text": [
            "Epoch 1/50\n",
            "172/172 [==============================] - 19s 74ms/step - loss: 2.5291\n",
            "Epoch 2/50\n",
            "172/172 [==============================] - 14s 72ms/step - loss: 1.8478\n",
            "Epoch 3/50\n",
            "172/172 [==============================] - 14s 73ms/step - loss: 1.6113\n",
            "Epoch 4/50\n",
            "172/172 [==============================] - 15s 76ms/step - loss: 1.4848\n",
            "Epoch 5/50\n",
            "172/172 [==============================] - 16s 78ms/step - loss: 1.4095\n",
            "Epoch 6/50\n",
            "172/172 [==============================] - 15s 78ms/step - loss: 1.3530\n",
            "Epoch 7/50\n",
            "172/172 [==============================] - 14s 74ms/step - loss: 1.3070\n",
            "Epoch 8/50\n",
            "172/172 [==============================] - 15s 75ms/step - loss: 1.2687\n",
            "Epoch 9/50\n",
            "172/172 [==============================] - 15s 77ms/step - loss: 1.2315\n",
            "Epoch 10/50\n",
            "172/172 [==============================] - 16s 75ms/step - loss: 1.1948\n",
            "Epoch 11/50\n",
            "172/172 [==============================] - 15s 75ms/step - loss: 1.1576\n",
            "Epoch 12/50\n",
            "172/172 [==============================] - 15s 76ms/step - loss: 1.1196\n",
            "Epoch 13/50\n",
            "172/172 [==============================] - 16s 76ms/step - loss: 1.0807\n",
            "Epoch 14/50\n",
            "172/172 [==============================] - 15s 75ms/step - loss: 1.0405\n",
            "Epoch 15/50\n",
            "172/172 [==============================] - 15s 78ms/step - loss: 0.9989\n",
            "Epoch 16/50\n",
            "172/172 [==============================] - 15s 75ms/step - loss: 0.9580\n",
            "Epoch 17/50\n",
            "172/172 [==============================] - 15s 77ms/step - loss: 0.9160\n",
            "Epoch 18/50\n",
            "172/172 [==============================] - 15s 77ms/step - loss: 0.8752\n",
            "Epoch 19/50\n",
            "172/172 [==============================] - 15s 76ms/step - loss: 0.8364\n",
            "Epoch 20/50\n",
            "172/172 [==============================] - 14s 74ms/step - loss: 0.7987\n",
            "Epoch 21/50\n",
            "172/172 [==============================] - 15s 76ms/step - loss: 0.7633\n",
            "Epoch 22/50\n",
            "172/172 [==============================] - 15s 77ms/step - loss: 0.7305\n",
            "Epoch 23/50\n",
            "172/172 [==============================] - 15s 76ms/step - loss: 0.6999\n",
            "Epoch 24/50\n",
            "172/172 [==============================] - 15s 75ms/step - loss: 0.6719\n",
            "Epoch 25/50\n",
            "172/172 [==============================] - 15s 74ms/step - loss: 0.6492\n",
            "Epoch 26/50\n",
            "172/172 [==============================] - 15s 77ms/step - loss: 0.6256\n",
            "Epoch 27/50\n",
            "172/172 [==============================] - 15s 77ms/step - loss: 0.6037\n",
            "Epoch 28/50\n",
            "172/172 [==============================] - 15s 76ms/step - loss: 0.5865\n",
            "Epoch 29/50\n",
            "172/172 [==============================] - 14s 73ms/step - loss: 0.5694\n",
            "Epoch 30/50\n",
            "172/172 [==============================] - 15s 76ms/step - loss: 0.5567\n",
            "Epoch 31/50\n",
            "172/172 [==============================] - 15s 77ms/step - loss: 0.5426\n",
            "Epoch 32/50\n",
            "172/172 [==============================] - 15s 75ms/step - loss: 0.5289\n",
            "Epoch 33/50\n",
            "172/172 [==============================] - 15s 77ms/step - loss: 0.5176\n",
            "Epoch 34/50\n",
            "172/172 [==============================] - 16s 75ms/step - loss: 0.5074\n",
            "Epoch 35/50\n",
            "172/172 [==============================] - 15s 75ms/step - loss: 0.4993\n",
            "Epoch 36/50\n",
            "172/172 [==============================] - 15s 75ms/step - loss: 0.4923\n",
            "Epoch 37/50\n",
            "172/172 [==============================] - 15s 75ms/step - loss: 0.4839\n",
            "Epoch 38/50\n",
            "172/172 [==============================] - 15s 76ms/step - loss: 0.4770\n",
            "Epoch 39/50\n",
            "172/172 [==============================] - 14s 74ms/step - loss: 0.4725\n",
            "Epoch 40/50\n",
            "172/172 [==============================] - 15s 77ms/step - loss: 0.4644\n",
            "Epoch 41/50\n",
            "172/172 [==============================] - 16s 76ms/step - loss: 0.4603\n",
            "Epoch 42/50\n",
            "172/172 [==============================] - 15s 75ms/step - loss: 0.4558\n",
            "Epoch 43/50\n",
            "172/172 [==============================] - 15s 75ms/step - loss: 0.4517\n",
            "Epoch 44/50\n",
            "172/172 [==============================] - 15s 75ms/step - loss: 0.4466\n",
            "Epoch 45/50\n",
            "172/172 [==============================] - 15s 76ms/step - loss: 0.4415\n",
            "Epoch 46/50\n",
            "172/172 [==============================] - 15s 75ms/step - loss: 0.4389\n",
            "Epoch 47/50\n",
            "172/172 [==============================] - 15s 76ms/step - loss: 0.4389\n",
            "Epoch 48/50\n",
            "172/172 [==============================] - 15s 76ms/step - loss: 0.4370\n",
            "Epoch 49/50\n",
            "172/172 [==============================] - 15s 75ms/step - loss: 0.4326\n",
            "Epoch 50/50\n",
            "172/172 [==============================] - 15s 76ms/step - loss: 0.4307\n"
          ]
        }
      ],
      "source": [
        "history = model.fit(data, epochs=50, callbacks=[checkpoint_callback])"
      ]
    },
    {
      "cell_type": "markdown",
      "source": [
        "###Loading the Model\n",
        "We'll rebuild the model from a checkpoint using a batch_size of 1 so that we can feed one peice of text to the model and have it make a prediction."
      ],
      "metadata": {
        "id": "5GNHS47LQ5Ad"
      }
    },
    {
      "cell_type": "code",
      "source": [
        "model = build_model(VOCAB_SIZE, EMBEDDING_DIM, RNN_UNITS, batch_size=1)"
      ],
      "metadata": {
        "id": "0lTuGHnGQ5SJ"
      },
      "execution_count": 23,
      "outputs": []
    },
    {
      "cell_type": "markdown",
      "source": [
        "Once the model is finished training, we can find the **lastest checkpoint** that stores the models weights using the following line.\n",
        "\n"
      ],
      "metadata": {
        "id": "oBAmrQ_dQ9QG"
      }
    },
    {
      "cell_type": "code",
      "source": [
        "model.load_weights(tf.train.latest_checkpoint(checkpoint_dir))\n",
        "model.build(tf.TensorShape([1, None]))"
      ],
      "metadata": {
        "id": "sBIweXh7Q9k9"
      },
      "execution_count": 27,
      "outputs": []
    },
    {
      "cell_type": "markdown",
      "source": [
        "###Generating Text\n",
        "Now we can use the lovely function provided by tensorflow to generate some text using any starting string we'd like."
      ],
      "metadata": {
        "id": "_bUgaRfVTUuG"
      }
    },
    {
      "cell_type": "code",
      "source": [
        "def generate_text(model, start_string):\n",
        "  # Evaluation step (generating text using the learned model)\n",
        "\n",
        "  # Number of characters to generate\n",
        "  num_generate = 800\n",
        "\n",
        "  # Converting our start string to numbers (vectorizing)\n",
        "  input_eval = [char2idx[s] for s in start_string]\n",
        "  input_eval = tf.expand_dims(input_eval, 0)\n",
        "\n",
        "  # Empty string to store our results\n",
        "  text_generated = []\n",
        "\n",
        "  # Low temperatures results in more predictable text.\n",
        "  # Higher temperatures results in more surprising text.\n",
        "  # Experiment to find the best setting.\n",
        "  temperature = 1.0\n",
        "\n",
        "  # Here batch size == 1\n",
        "  model.reset_states()\n",
        "  for i in range(num_generate):\n",
        "      predictions = model(input_eval)\n",
        "      # remove the batch dimension\n",
        "    \n",
        "      predictions = tf.squeeze(predictions, 0)\n",
        "\n",
        "      # using a categorical distribution to predict the character returned by the model\n",
        "      predictions = predictions / temperature\n",
        "      predicted_id = tf.random.categorical(predictions, num_samples=1)[-1,0].numpy()\n",
        "\n",
        "      # We pass the predicted character as the next input to the model\n",
        "      # along with the previous hidden state\n",
        "      input_eval = tf.expand_dims([predicted_id], 0)\n",
        "\n",
        "      text_generated.append(idx2char[predicted_id])\n",
        "\n",
        "  return (start_string + ''.join(text_generated))"
      ],
      "metadata": {
        "id": "o7z3R1IqRCcT"
      },
      "execution_count": 29,
      "outputs": []
    },
    {
      "cell_type": "code",
      "source": [
        "inp = input(\"Type a starting string: \")\n",
        "print(generate_text(model, inp))"
      ],
      "metadata": {
        "colab": {
          "base_uri": "https://localhost:8080/"
        },
        "id": "GpGdrjkyTXQs",
        "outputId": "9f1de022-d7e7-46c3-977f-fde92caadff0"
      },
      "execution_count": 33,
      "outputs": [
        {
          "output_type": "stream",
          "name": "stdout",
          "text": [
            "Type a starting string: Juliet\n",
            "Juliet what you do contempt her eyes,\n",
            "To wound thy lord, thy king, thy griefs,\n",
            "Jest with thy sweet laid into his waste\n",
            "Here in this chase; I mean, in bed:\n",
            "You Edward, that in boats befits me;\n",
            "Made haste your company to blow,\n",
            "I am anger'd, put us in mind there\n",
            "So long as if thy cloud knowing\n",
            "Is, even for the multitude to be do thy death.\n",
            "\n",
            "BRUTUS:\n",
            "Come, we'll bring thee to your fortune with\n",
            "my body to the truth of it. His est thou there?\n",
            "Stand I am strike.\n",
            "\n",
            "SICINIUS:\n",
            "He cannot repossely: but we must\n",
            "but then?\n",
            "\n",
            "POMPEY:\n",
            "Doth your most gracious God!\n",
            "Murder her to-night.\n",
            "\n",
            "ROMEO:\n",
            "Not carr, at December: belike he married well in such a number word\n",
            "That he disdain should bring which they can see Bastings and truth they lay into the lose,\n",
            "When they shall know or 'twas more instruction. Alas\n",
            "This doth not \n"
          ]
        }
      ]
    }
  ],
  "metadata": {
    "colab": {
      "provenance": []
    },
    "kernelspec": {
      "display_name": "Python 3",
      "name": "python3"
    },
    "language_info": {
      "name": "python"
    },
    "accelerator": "GPU",
    "gpuClass": "standard"
  },
  "nbformat": 4,
  "nbformat_minor": 0
}